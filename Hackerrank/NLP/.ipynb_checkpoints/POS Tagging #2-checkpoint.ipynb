{
 "cells": [
  {
   "cell_type": "code",
   "execution_count": 2,
   "metadata": {},
   "outputs": [],
   "source": [
    "import nltk \n",
    "import nltk.tag, nltk.data\n",
    "from nltk.tokenize import word_tokenize, sent_tokenize"
   ]
  },
  {
   "cell_type": "code",
   "execution_count": 3,
   "metadata": {},
   "outputs": [
    {
     "name": "stdout",
     "output_type": "stream",
     "text": [
      "['People/NNS', 'continue/VBP', 'to/TO', 'inquire/VB', 'the/DT', 'reason/??', 'for/IN', 'the/DT', 'race/NN', 'for/IN', 'outer/JJ', 'space/??'] \n",
      "\n",
      "People continue to inquire the reason for the race for outer space \n",
      "\n",
      "[['People', 'NNS'], ['continue', 'VBP'], ['to', 'TO'], ['inquire', 'VB'], ['the', 'DT'], ['reason', '??'], ['for', 'IN'], ['the', 'DT'], ['race', 'NN'], ['for', 'IN'], ['outer', 'JJ'], ['space', '??']] \n",
      "\n",
      "{'People': 'NNS', 'continue': 'VBP', 'to': 'TO', 'inquire': 'VB', 'the': 'DT', 'for': 'IN', 'race': 'NN', 'outer': 'JJ'}\n"
     ]
    }
   ],
   "source": [
    "data = \"People/NNS continue/VBP to/TO inquire/VB the/DT reason/?? for/IN the/DT race/NN for/IN outer/JJ space/??\"\n",
    "data = data.split(\" \")\n",
    "print(data, '\\n')\n",
    "\n",
    "sentence_lol = []\n",
    "custom_tagger = {}\n",
    "example_sentence = []\n",
    "for i in data:\n",
    "    example_word = i.split(\"/\")\n",
    "    example_sentence = example_sentence + [example_word[0]]\n",
    "    sentence_lol = sentence_lol + [example_word]\n",
    "    if \"?\" not in example_word[1]:\n",
    "        custom_tagger[example_word[0]] = example_word[1]\n",
    "\n",
    "example_sentence = \" \".join(i for i in example_sentence)\n",
    "print(example_sentence, '\\n')\n",
    "print(sentence_lol, '\\n')\n",
    "print(custom_tagger)"
   ]
  },
  {
   "cell_type": "code",
   "execution_count": 4,
   "metadata": {},
   "outputs": [
    {
     "name": "stderr",
     "output_type": "stream",
     "text": [
      "[nltk_data] Downloading package maxent_treebank_pos_tagger to\n",
      "[nltk_data]     /Users/mishu/nltk_data...\n",
      "[nltk_data]   Package maxent_treebank_pos_tagger is already up-to-\n",
      "[nltk_data]       date!\n"
     ]
    },
    {
     "name": "stdout",
     "output_type": "stream",
     "text": [
      "People continue to inquire the reason for the race for outer space\n",
      "\n"
     ]
    }
   ],
   "source": [
    "nltk.download('maxent_treebank_pos_tagger') \n",
    "tagger_path = '/Users/mishu/nltk_data/taggers/maxent_treebank_pos_tagger/english.pickle'\n",
    "default_tagger = nltk.data.load(tagger_path)\n",
    "tagger = nltk.tag.UnigramTagger(model=custom_tagger, backoff=default_tagger)"
   ]
  },
  {
   "cell_type": "code",
   "execution_count": 5,
   "metadata": {},
   "outputs": [
    {
     "name": "stdout",
     "output_type": "stream",
     "text": [
      "[['People', 'NNS'], ['continue', 'VBP'], ['to', 'TO'], ['inquire', 'VB'], ['the', 'DT'], ['reason', '??'], ['for', 'IN'], ['the', 'DT'], ['race', 'NN'], ['for', 'IN'], ['outer', 'JJ'], ['space', '??']] \n",
      "\n",
      "People continue to inquire the reason for the race for outer space\n",
      "[('People', 'NNS'), ('continue', 'VBP'), ('to', 'TO'), ('inquire', 'VB'), ('the', 'DT'), ('reason', 'NN'), ('for', 'IN'), ('the', 'DT'), ('race', 'NN'), ('for', 'IN'), ('outer', 'JJ'), ('space', 'NN')] \n",
      "\n"
     ]
    }
   ],
   "source": [
    "print(sentence_lol, '\\n')\n",
    "\n",
    "tokenized = sent_tokenize(example_sentence)\n",
    "for i in tokenized:\n",
    "    print(i)\n",
    "    wordsList = nltk.word_tokenize(i)\n",
    "    print(tagger.tag(wordsList), '\\n')"
   ]
  },
  {
   "cell_type": "code",
   "execution_count": null,
   "metadata": {},
   "outputs": [],
   "source": []
  }
 ],
 "metadata": {
  "kernelspec": {
   "display_name": "Python 3",
   "language": "python",
   "name": "python3"
  },
  "language_info": {
   "codemirror_mode": {
    "name": "ipython",
    "version": 3
   },
   "file_extension": ".py",
   "mimetype": "text/x-python",
   "name": "python",
   "nbconvert_exporter": "python",
   "pygments_lexer": "ipython3",
   "version": "3.8.3"
  }
 },
 "nbformat": 4,
 "nbformat_minor": 4
}
