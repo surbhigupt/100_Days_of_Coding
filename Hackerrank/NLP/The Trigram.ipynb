{
 "cells": [
  {
   "cell_type": "code",
   "execution_count": 29,
   "metadata": {},
   "outputs": [
    {
     "name": "stdout",
     "output_type": "stream",
     "text": [
      "['I love to dance', ' I like to dance', ' I like to play chess', '']\n",
      "[['i', 'love', 'to', 'dance'], ['i', 'like', 'to', 'dance'], ['i', 'like', 'to', 'play', 'chess']]\n",
      "i like to\n"
     ]
    }
   ],
   "source": [
    "import sys\n",
    "\n",
    "s = input()\n",
    "\n",
    "\n",
    "def times_sublist_in_list(sublist, l):\n",
    "    pos_sublist = 0\n",
    "    total = 0\n",
    "    for i in range(0, len(l)):\n",
    "        if sublist[pos_sublist] == l[i]:\n",
    "            pos_sublist += 1\n",
    "            if pos_sublist == len(sublist):\n",
    "                total += 1\n",
    "                pos_sublist = 0\n",
    "        else:\n",
    "            pos_sublist = 0\n",
    "    return total \n",
    "\n",
    "\n",
    "def search_trigram(words):\n",
    "    max_total = 0\n",
    "    max_trigram = []\n",
    "    for i in range(0, len(words)):\n",
    "        # Only consdier items from the first till the one that is two places before the last\n",
    "        for j in range(0, len(words[i]) - 2):\n",
    "            trigram = words[i][j:j + 3]\n",
    "            total = 1\n",
    "            total += times_sublist_in_list(trigram, words[i][j + 3:])\n",
    "            for k in range(i + 1, len(words)):\n",
    "                total += times_sublist_in_list(trigram, words[k])\n",
    "            if total > max_total:\n",
    "                max_total = total\n",
    "                max_trigram = trigram\n",
    "    return max_trigram\n",
    "\n",
    "\n",
    "sentences = list(filter(lambda x: x!= \" \", s.split(\".\")))\n",
    "print(sentences)\n",
    "\n",
    "words = []\n",
    "for i in range(0, len(sentences)):\n",
    "    words.append(\n",
    "    [\n",
    "        x.lower().strip()\n",
    "        for x in sentences[i].split(\" \")\n",
    "        if x!=''\n",
    "    ])\n",
    "words = [i for i in words if i]\n",
    "print(words)\n",
    "\n",
    "print(\" \".join(search_trigram(words)))"
   ]
  },
  {
   "cell_type": "code",
   "execution_count": 1,
   "metadata": {},
   "outputs": [],
   "source": [
    "I'd like an apple.\n",
    "An apple a day keeps the doctor away.\n",
    "Never compare an apple to an orange.\n",
    "I prefer scikit-learn to orange."
   ]
  },
  {
   "cell_type": "code",
   "execution_count": 4,
   "metadata": {},
   "outputs": [
    {
     "name": "stdout",
     "output_type": "stream",
     "text": [
      "4\n",
      "I'd like an apple.\n",
      "An apple a day keeps the doctor away.\n",
      "Never compare an apple to an orange.\n",
      "I prefer scikit-learn to orange.\n",
      "[\"I'd like an apple.\", 'An apple a day keeps the doctor away.', 'Never compare an apple to an orange.', 'I prefer scikit-learn to orange.']\n"
     ]
    }
   ],
   "source": [
    "import sys\n",
    "N = int(input())\n",
    "data = []\n",
    "for i in range(N):\n",
    "    data = data + [input()]\n",
    "print(data)"
   ]
  },
  {
   "cell_type": "code",
   "execution_count": 15,
   "metadata": {},
   "outputs": [
    {
     "name": "stdout",
     "output_type": "stream",
     "text": [
      "[[1.         0.25082859 0.39482963 0.        ]\n",
      " [0.25082859 1.         0.22057609 0.        ]\n",
      " [0.39482963 0.22057609 1.         0.26264139]\n",
      " [0.         0.         0.26264139 1.        ]]\n"
     ]
    }
   ],
   "source": [
    "from sklearn.feature_extraction.text import TfidfVectorizer\n",
    "vectorizer = TfidfVectorizer(min_df=1)\n",
    "tfidf = vectorizer.fit_transform(data)\n",
    "sim = (tfidf * tfidf.T)\n",
    "sim_array = sim.toarray()\n",
    "print(sim_array)"
   ]
  },
  {
   "cell_type": "code",
   "execution_count": 17,
   "metadata": {},
   "outputs": [],
   "source": [
    "import numpy as np\n",
    "\n",
    "np.fill_diagonal(sim_array, np.nan)"
   ]
  },
  {
   "cell_type": "code",
   "execution_count": 19,
   "metadata": {},
   "outputs": [
    {
     "data": {
      "text/plain": [
       "2"
      ]
     },
     "execution_count": 19,
     "metadata": {},
     "output_type": "execute_result"
    }
   ],
   "source": [
    "np.nanargmax(sim_array[0])"
   ]
  },
  {
   "cell_type": "code",
   "execution_count": 20,
   "metadata": {},
   "outputs": [
    {
     "name": "stdout",
     "output_type": "stream",
     "text": [
      "3\n"
     ]
    }
   ],
   "source": [
    "corpus = [\n",
    "    \"I'd like an apple.\",\n",
    "    \"An apple a day keeps the doctor away.\",\n",
    "    \"Never compare an apple to an orange.\",\n",
    "    \"I prefer scikit-learn to orange.\",\n",
    "]\n",
    "\n",
    "from sklearn.feature_extraction.text import TfidfVectorizer\n",
    "import numpy as np\n",
    "\n",
    "vectorizer = TfidfVectorizer()\n",
    "sparse = vectorizer.fit_transform(corpus)\n",
    "\n",
    "# Dot product similiarities, the sentences are short!\n",
    "x = sparse * sparse.T\n",
    "\n",
    "# Skip the first document to itself and add two since documents are 1-indexed, answer: 3 (0.39ish)\n",
    "print(\"{0}\".format(np.argmax(x[0, 1:].toarray()) + 2))"
   ]
  },
  {
   "cell_type": "code",
   "execution_count": null,
   "metadata": {},
   "outputs": [],
   "source": []
  }
 ],
 "metadata": {
  "kernelspec": {
   "display_name": "Python 3",
   "language": "python",
   "name": "python3"
  },
  "language_info": {
   "codemirror_mode": {
    "name": "ipython",
    "version": 3
   },
   "file_extension": ".py",
   "mimetype": "text/x-python",
   "name": "python",
   "nbconvert_exporter": "python",
   "pygments_lexer": "ipython3",
   "version": "3.8.3"
  }
 },
 "nbformat": 4,
 "nbformat_minor": 4
}
