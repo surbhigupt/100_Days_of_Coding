{
 "cells": [
  {
   "cell_type": "code",
   "execution_count": 1,
   "metadata": {},
   "outputs": [],
   "source": [
    "import nltk \n",
    "import nltk.tag, nltk.data\n",
    "from nltk.tokenize import word_tokenize, sent_tokenize\n",
    "import re"
   ]
  },
  {
   "cell_type": "code",
   "execution_count": 2,
   "metadata": {},
   "outputs": [
    {
     "name": "stdout",
     "output_type": "stream",
     "text": [
      "['The/DT', 'planet/NN', 'Jupiter/NNP', 'and/CC', 'its/PPS', 'moons/NNS', 'are/VBP', 'in/IN', 'effect/NN', 'a/DT', 'minisolar/JJ', 'system/??', ',/,', 'and/CC', 'Jupiter/NNP', 'itself/PRP', 'is/VBZ', 'often/RB', 'called/VBN', 'a/DT', 'star/??', 'that/IN', 'never/RB', 'caught/???', 'fire/NN', './.'] \n",
      "\n",
      "The planet Jupiter and its moons are in effect a minisolar system , and Jupiter itself is often called a star that never caught fire . \n",
      "\n",
      "[['The', 'DT'], ['planet', 'NN'], ['Jupiter', 'NNP'], ['and', 'CC'], ['its', 'PPS'], ['moons', 'NNS'], ['are', 'VBP'], ['in', 'IN'], ['effect', 'NN'], ['a', 'DT'], ['minisolar', 'JJ'], ['system', '??'], [',', ','], ['and', 'CC'], ['Jupiter', 'NNP'], ['itself', 'PRP'], ['is', 'VBZ'], ['often', 'RB'], ['called', 'VBN'], ['a', 'DT'], ['star', '??'], ['that', 'IN'], ['never', 'RB'], ['caught', '???'], ['fire', 'NN'], ['.', '.']] \n",
      "\n",
      "{'The': 'DT', 'planet': 'NN', 'Jupiter': 'NNP', 'and': 'CC', 'its': 'PPS', 'moons': 'NNS', 'are': 'VBP', 'in': 'IN', 'effect': 'NN', 'a': 'DT', 'minisolar': 'JJ', ',': ',', 'itself': 'PRP', 'is': 'VBZ', 'often': 'RB', 'called': 'VBN', 'that': 'IN', 'never': 'RB', 'fire': 'NN', '.': '.'}\n"
     ]
    }
   ],
   "source": [
    "data = \"The/DT planet/NN Jupiter/NNP and/CC its/PPS moons/NNS are/VBP in/IN effect/NN a/DT minisolar/JJ system/?? ,/, and/CC Jupiter/NNP itself/PRP is/VBZ often/RB called/VBN a/DT star/?? that/IN never/RB caught/??? fire/NN ./.\"\n",
    "data = data.split(\" \")\n",
    "print(data, '\\n')\n",
    "\n",
    "sentence_lol = []\n",
    "custom_tagger = {}\n",
    "example_sentence = []\n",
    "for i in data:\n",
    "    example_word = i.split(\"/\")\n",
    "    example_sentence = example_sentence + [example_word[0]]\n",
    "    sentence_lol = sentence_lol + [example_word]\n",
    "    if \"?\" not in example_word[1]:\n",
    "        custom_tagger[example_word[0]] = example_word[1]\n",
    "\n",
    "example_sentence = \" \".join(i for i in example_sentence)\n",
    "print(example_sentence, '\\n')\n",
    "print(sentence_lol, '\\n')\n",
    "print(custom_tagger)"
   ]
  },
  {
   "cell_type": "code",
   "execution_count": 3,
   "metadata": {},
   "outputs": [
    {
     "name": "stderr",
     "output_type": "stream",
     "text": [
      "[nltk_data] Downloading package maxent_treebank_pos_tagger to\n",
      "[nltk_data]     /Users/mishu/nltk_data...\n",
      "[nltk_data]   Package maxent_treebank_pos_tagger is already up-to-\n",
      "[nltk_data]       date!\n"
     ]
    },
    {
     "name": "stdout",
     "output_type": "stream",
     "text": [
      "The planet Jupiter and its moons are in effect a minisolar system , and Jupiter itself is often called a star that never caught fire .\n",
      "\n"
     ]
    }
   ],
   "source": [
    "nltk.download('maxent_treebank_pos_tagger') \n",
    "tagger_path = '/Users/mishu/nltk_data/taggers/maxent_treebank_pos_tagger/english.pickle'\n",
    "default_tagger = nltk.data.load(tagger_path)\n",
    "tagger = nltk.tag.UnigramTagger(model=custom_tagger, backoff=default_tagger)"
   ]
  },
  {
   "cell_type": "code",
   "execution_count": 8,
   "metadata": {},
   "outputs": [
    {
     "name": "stdout",
     "output_type": "stream",
     "text": [
      "[['The', 'DT'], ['planet', 'NN'], ['Jupiter', 'NNP'], ['and', 'CC'], ['its', 'PPS'], ['moons', 'NNS'], ['are', 'VBP'], ['in', 'IN'], ['effect', 'NN'], ['a', 'DT'], ['minisolar', 'JJ'], ['system', '??'], [',', ','], ['and', 'CC'], ['Jupiter', 'NNP'], ['itself', 'PRP'], ['is', 'VBZ'], ['often', 'RB'], ['called', 'VBN'], ['a', 'DT'], ['star', '??'], ['that', 'IN'], ['never', 'RB'], ['caught', '???'], ['fire', 'NN'], ['.', '.']] \n",
      "\n",
      "The planet Jupiter and its moons are in effect a minisolar system , and Jupiter itself is often called a star that never caught fire .\n",
      "[('The', 'DT'), ('planet', 'NN'), ('Jupiter', 'NNP'), ('and', 'CC'), ('its', 'PPS'), ('moons', 'NNS'), ('are', 'VBP'), ('in', 'IN'), ('effect', 'NN'), ('a', 'DT'), ('minisolar', 'JJ'), ('system', 'NN'), (',', ','), ('and', 'CC'), ('Jupiter', 'NNP'), ('itself', 'PRP'), ('is', 'VBZ'), ('often', 'RB'), ('called', 'VBN'), ('a', 'DT'), ('star', 'NN'), ('that', 'IN'), ('never', 'RB'), ('caught', 'VBN'), ('fire', 'NN'), ('.', '.')] \n",
      "\n"
     ]
    }
   ],
   "source": [
    "print(sentence_lol, '\\n')\n",
    "\n",
    "tokenized = sent_tokenize(example_sentence)\n",
    "for i in tokenized:\n",
    "    print(i)\n",
    "    wordsList = nltk.word_tokenize(i)\n",
    "    print(tagger.tag(wordsList), '\\n')"
   ]
  },
  {
   "cell_type": "code",
   "execution_count": null,
   "metadata": {},
   "outputs": [],
   "source": []
  }
 ],
 "metadata": {
  "kernelspec": {
   "display_name": "Python 3",
   "language": "python",
   "name": "python3"
  },
  "language_info": {
   "codemirror_mode": {
    "name": "ipython",
    "version": 3
   },
   "file_extension": ".py",
   "mimetype": "text/x-python",
   "name": "python",
   "nbconvert_exporter": "python",
   "pygments_lexer": "ipython3",
   "version": "3.8.3"
  }
 },
 "nbformat": 4,
 "nbformat_minor": 4
}
