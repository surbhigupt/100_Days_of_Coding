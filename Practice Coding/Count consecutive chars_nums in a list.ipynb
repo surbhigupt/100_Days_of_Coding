{
 "cells": [
  {
   "cell_type": "code",
   "execution_count": 1,
   "metadata": {},
   "outputs": [
    {
     "name": "stdout",
     "output_type": "stream",
     "text": [
      "1113553332555\n",
      "[1, 1, 1, 3, 5, 5, 3, 3, 3, 2, 5, 5, 5]\n"
     ]
    }
   ],
   "source": [
    "import pandas as pd\n",
    "import numpy as np\n",
    "\n",
    "input_list = input()\n",
    "input_list = [int(i) for i in input_list]\n",
    "print(input_list)"
   ]
  },
  {
   "cell_type": "code",
   "execution_count": 2,
   "metadata": {},
   "outputs": [
    {
     "name": "stdout",
     "output_type": "stream",
     "text": [
      "First number is the char in the input and second is the number of times is appears consecutively. \n",
      "\n",
      "[1, 3, 3, 1, 5, 2, 3, 3, 2, 1, 5, 3]\n"
     ]
    }
   ],
   "source": [
    "d = pd.Series(input_list)\n",
    "output_list = []\n",
    "for x, y in d.groupby([d.ne(d.shift()).cumsum(), d]):\n",
    "    output_list = output_list + [x[1]]\n",
    "    output_list = output_list + [y.shape[0]]\n",
    "print(\"First number is the char in the input and second is the number of times is appears consecutively.\", \"\\n\")\n",
    "print(output_list)"
   ]
  },
  {
   "cell_type": "code",
   "execution_count": null,
   "metadata": {},
   "outputs": [],
   "source": []
  }
 ],
 "metadata": {
  "kernelspec": {
   "display_name": "Python 3",
   "language": "python",
   "name": "python3"
  },
  "language_info": {
   "codemirror_mode": {
    "name": "ipython",
    "version": 3
   },
   "file_extension": ".py",
   "mimetype": "text/x-python",
   "name": "python",
   "nbconvert_exporter": "python",
   "pygments_lexer": "ipython3",
   "version": "3.8.3"
  }
 },
 "nbformat": 4,
 "nbformat_minor": 4
}
